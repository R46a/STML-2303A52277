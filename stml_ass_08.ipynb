{
  "nbformat": 4,
  "nbformat_minor": 0,
  "metadata": {
    "colab": {
      "provenance": [],
      "authorship_tag": "ABX9TyNvJ8Ssmbb0nv1+oCBlZP8u",
      "include_colab_link": true
    },
    "kernelspec": {
      "name": "python3",
      "display_name": "Python 3"
    },
    "language_info": {
      "name": "python"
    }
  },
  "cells": [
    {
      "cell_type": "markdown",
      "metadata": {
        "id": "view-in-github",
        "colab_type": "text"
      },
      "source": [
        "<a href=\"https://colab.research.google.com/github/R46a/STML-2303A52277/blob/main/stml_ass_08.ipynb\" target=\"_parent\"><img src=\"https://colab.research.google.com/assets/colab-badge.svg\" alt=\"Open In Colab\"/></a>"
      ]
    },
    {
      "cell_type": "code",
      "execution_count": null,
      "metadata": {
        "colab": {
          "base_uri": "https://localhost:8080/"
        },
        "id": "z52A_Xa9fBne",
        "outputId": "3366a89a-96af-498b-e0d0-a995880aee8d"
      },
      "outputs": [
        {
          "output_type": "stream",
          "name": "stdout",
          "text": [
            "Accuracy: 1.0\n",
            "Confusion Matrix:\n",
            "[[1 0]\n",
            " [0 1]]\n",
            "Classification Report:\n",
            "              precision    recall  f1-score   support\n",
            "\n",
            "           0       1.00      1.00      1.00         1\n",
            "           1       1.00      1.00      1.00         1\n",
            "\n",
            "    accuracy                           1.00         2\n",
            "   macro avg       1.00      1.00      1.00         2\n",
            "weighted avg       1.00      1.00      1.00         2\n",
            "\n"
          ]
        }
      ],
      "source": [
        "import pandas as pd\n",
        "from sklearn.model_selection import train_test_split\n",
        "from sklearn.linear_model import LogisticRegression\n",
        "from sklearn.metrics import accuracy_score, confusion_matrix,classification_report\n",
        "data = {\n",
        "      'X1': [10, 5, 15, 2, 12, 8, 14, 3, 11, 6],\n",
        "      'X2': [90, 60, 95, 30, 85, 75, 92, 50, 88, 65],\n",
        "      'X3': [85, 70, 90, 50, 88, 65, 93, 55, 80, 60],\n",
        "      'X4': [1, 0, 1, 0, 1, 0, 1, 0, 1, 0],\n",
        "      'X5': [100, 80, 100, 40, 90, 70, 95, 60, 85, 75],\n",
        "      'Pass/Fail': [1, 0, 1, 0, 1, 0, 1, 0, 1, 0]\n",
        "}\n",
        "df = pd.DataFrame(data)\n",
        "X = df[['X1', 'X2', 'X3', 'X4', 'X5']]\n",
        "y = df['Pass/Fail']\n",
        "X_train, X_test, y_train, y_test = train_test_split(X, y,\n",
        "test_size=0.2, random_state=22)\n",
        "model = LogisticRegression()\n",
        "model.fit(X_train, y_train)\n",
        "LogisticRegression()\n",
        "y_pred = model.predict(X_test)\n",
        "accuracy = accuracy_score(y_test, y_pred)\n",
        "conf_matrix = confusion_matrix(y_test, y_pred)\n",
        "class_report = classification_report(y_test, y_pred)\n",
        "print(f'Accuracy: {accuracy}')\n",
        "print('Confusion Matrix:')\n",
        "print(conf_matrix)\n",
        "print('Classification Report:')\n",
        "print(class_report)"
      ]
    },
    {
      "cell_type": "code",
      "source": [
        "import pandas as pd\n",
        "from sklearn.model_selection import train_test_split\n",
        "from sklearn.linear_model import LogisticRegression\n",
        "from sklearn.metrics import accuracy_score, confusion_matrix,classification_report\n",
        "df = pd.read_csv('/content/diabetes_data_upload[1].csv')\n",
        "df = pd.get_dummies(df, drop_first=True)\n",
        "X = df.drop('class_Positive', axis=1)\n",
        "y = df['class_Positive']\n",
        "X_train, X_test, y_train, y_test = train_test_split(X, y,\n",
        "test_size=0.2, random_state=42)\n",
        "model = LogisticRegression(max_iter=1000)\n",
        "model.fit(X_train, y_train)\n",
        "LogisticRegression(max_iter=1000)\n",
        "y_pred = model.predict(X_test)\n",
        "accuracy = accuracy_score(y_test, y_pred)\n",
        "conf_matrix = confusion_matrix(y_test, y_pred)\n",
        "class_report = classification_report(y_test, y_pred)\n",
        "print(f'Accuracy: {accuracy}')\n",
        "print('Confusion Matrix:')\n",
        "print(conf_matrix)\n",
        "print('Classification Report:')\n",
        "print(class_report)"
      ],
      "metadata": {
        "colab": {
          "base_uri": "https://localhost:8080/"
        },
        "id": "XJUN52v9fieK",
        "outputId": "f4684861-e30e-4147-f6f2-7bb82a04cbd5"
      },
      "execution_count": null,
      "outputs": [
        {
          "output_type": "stream",
          "name": "stdout",
          "text": [
            "Accuracy: 0.9230769230769231\n",
            "Confusion Matrix:\n",
            "[[28  5]\n",
            " [ 3 68]]\n",
            "Classification Report:\n",
            "              precision    recall  f1-score   support\n",
            "\n",
            "       False       0.90      0.85      0.88        33\n",
            "        True       0.93      0.96      0.94        71\n",
            "\n",
            "    accuracy                           0.92       104\n",
            "   macro avg       0.92      0.90      0.91       104\n",
            "weighted avg       0.92      0.92      0.92       104\n",
            "\n"
          ]
        }
      ]
    }
  ]
}