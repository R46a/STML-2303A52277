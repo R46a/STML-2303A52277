{
  "nbformat": 4,
  "nbformat_minor": 0,
  "metadata": {
    "colab": {
      "provenance": [],
      "authorship_tag": "ABX9TyOaCGuYswqh21mFbGmNaTe2",
      "include_colab_link": true
    },
    "kernelspec": {
      "name": "python3",
      "display_name": "Python 3"
    },
    "language_info": {
      "name": "python"
    }
  },
  "cells": [
    {
      "cell_type": "markdown",
      "metadata": {
        "id": "view-in-github",
        "colab_type": "text"
      },
      "source": [
        "<a href=\"https://colab.research.google.com/github/R46a/STML-2303A52277/blob/main/2303A52277(sml%20Project).ipynb\" target=\"_parent\"><img src=\"https://colab.research.google.com/assets/colab-badge.svg\" alt=\"Open In Colab\"/></a>"
      ]
    },
    {
      "cell_type": "code",
      "execution_count": 2,
      "metadata": {
        "colab": {
          "base_uri": "https://localhost:8080/"
        },
        "id": "Yu7J64Kk9ZGb",
        "outputId": "1aebb0d8-6a11-4d32-b1a2-ef1792edd798"
      },
      "outputs": [
        {
          "output_type": "stream",
          "name": "stdout",
          "text": [
            "   Age Gender Polyuria Polydipsia sudden weight loss weakness Polyphagia  \\\n",
            "0   40   Male       No        Yes                 No      Yes         No   \n",
            "1   58   Male       No         No                 No      Yes         No   \n",
            "2   41   Male      Yes         No                 No      Yes        Yes   \n",
            "3   45   Male       No         No                Yes      Yes        Yes   \n",
            "4   60   Male      Yes        Yes                Yes      Yes        Yes   \n",
            "\n",
            "  Genital thrush visual blurring Itching Irritability delayed healing  \\\n",
            "0             No              No     Yes           No             Yes   \n",
            "1             No             Yes      No           No              No   \n",
            "2             No              No     Yes           No             Yes   \n",
            "3            Yes              No     Yes           No             Yes   \n",
            "4             No             Yes     Yes          Yes             Yes   \n",
            "\n",
            "  partial paresis muscle stiffness Alopecia Obesity     class  \n",
            "0              No              Yes      Yes     Yes  Positive  \n",
            "1             Yes               No      Yes      No  Positive  \n",
            "2              No              Yes      Yes      No  Positive  \n",
            "3              No               No       No      No  Positive  \n",
            "4             Yes              Yes      Yes     Yes  Positive  \n"
          ]
        }
      ],
      "source": [
        "import pandas as pd\n",
        "import numpy as np\n",
        "d=pd.read_csv(\"/content/diabetes_data_upload.csv\")\n",
        "print(d.head())\n"
      ]
    },
    {
      "cell_type": "code",
      "source": [
        "X=d.drop('class',axis=1)\n",
        "mle_params={}\n",
        "y=d[\"class\"]\n",
        "print(\"target:\")\n",
        "print(y.head())\n",
        "print(\"shape:\",y.shape)\n",
        "print(\"features:\")\n",
        "print(X.head())"
      ],
      "metadata": {
        "colab": {
          "base_uri": "https://localhost:8080/"
        },
        "id": "ximaURcR_c8z",
        "outputId": "a715a6d6-f9b5-4b1a-ddd2-91a925a861e6"
      },
      "execution_count": 3,
      "outputs": [
        {
          "output_type": "stream",
          "name": "stdout",
          "text": [
            "target:\n",
            "0    Positive\n",
            "1    Positive\n",
            "2    Positive\n",
            "3    Positive\n",
            "4    Positive\n",
            "Name: class, dtype: object\n",
            "shape: (520,)\n",
            "features:\n",
            "   Age Gender Polyuria Polydipsia sudden weight loss weakness Polyphagia  \\\n",
            "0   40   Male       No        Yes                 No      Yes         No   \n",
            "1   58   Male       No         No                 No      Yes         No   \n",
            "2   41   Male      Yes         No                 No      Yes        Yes   \n",
            "3   45   Male       No         No                Yes      Yes        Yes   \n",
            "4   60   Male      Yes        Yes                Yes      Yes        Yes   \n",
            "\n",
            "  Genital thrush visual blurring Itching Irritability delayed healing  \\\n",
            "0             No              No     Yes           No             Yes   \n",
            "1             No             Yes      No           No              No   \n",
            "2             No              No     Yes           No             Yes   \n",
            "3            Yes              No     Yes           No             Yes   \n",
            "4             No             Yes     Yes          Yes             Yes   \n",
            "\n",
            "  partial paresis muscle stiffness Alopecia Obesity  \n",
            "0              No              Yes      Yes     Yes  \n",
            "1             Yes               No      Yes      No  \n",
            "2              No              Yes      Yes      No  \n",
            "3              No               No       No      No  \n",
            "4             Yes              Yes      Yes     Yes  \n"
          ]
        }
      ]
    },
    {
      "cell_type": "code",
      "source": [
        "S=X.replace({'Male':1,'Female':0,'Yes':1,'No':0})\n",
        "print(S)\n",
        "Y=y.replace({'Positive':1,'Negative':0})\n",
        "print(Y)"
      ],
      "metadata": {
        "colab": {
          "base_uri": "https://localhost:8080/"
        },
        "id": "5iqOvUuI_qPy",
        "outputId": "a52fd461-0c97-42bf-d6fb-a18b836be3cf"
      },
      "execution_count": 4,
      "outputs": [
        {
          "output_type": "stream",
          "name": "stdout",
          "text": [
            "     Age  Gender  Polyuria  Polydipsia  sudden weight loss  weakness  \\\n",
            "0     40       1         0           1                   0         1   \n",
            "1     58       1         0           0                   0         1   \n",
            "2     41       1         1           0                   0         1   \n",
            "3     45       1         0           0                   1         1   \n",
            "4     60       1         1           1                   1         1   \n",
            "..   ...     ...       ...         ...                 ...       ...   \n",
            "515   39       0         1           1                   1         0   \n",
            "516   48       0         1           1                   1         1   \n",
            "517   58       0         1           1                   1         1   \n",
            "518   32       0         0           0                   0         1   \n",
            "519   42       1         0           0                   0         0   \n",
            "\n",
            "     Polyphagia  Genital thrush  visual blurring  Itching  Irritability  \\\n",
            "0             0               0                0        1             0   \n",
            "1             0               0                1        0             0   \n",
            "2             1               0                0        1             0   \n",
            "3             1               1                0        1             0   \n",
            "4             1               0                1        1             1   \n",
            "..          ...             ...              ...      ...           ...   \n",
            "515           1               0                0        1             0   \n",
            "516           1               0                0        1             1   \n",
            "517           1               0                1        0             0   \n",
            "518           0               0                1        1             0   \n",
            "519           0               0                0        0             0   \n",
            "\n",
            "     delayed healing  partial paresis  muscle stiffness  Alopecia  Obesity  \n",
            "0                  1                0                 1         1        1  \n",
            "1                  0                1                 0         1        0  \n",
            "2                  1                0                 1         1        0  \n",
            "3                  1                0                 0         0        0  \n",
            "4                  1                1                 1         1        1  \n",
            "..               ...              ...               ...       ...      ...  \n",
            "515                1                1                 0         0        0  \n",
            "516                1                1                 0         0        0  \n",
            "517                0                1                 1         0        1  \n",
            "518                1                0                 0         1        0  \n",
            "519                0                0                 0         0        0  \n",
            "\n",
            "[520 rows x 16 columns]\n",
            "0      1\n",
            "1      1\n",
            "2      1\n",
            "3      1\n",
            "4      1\n",
            "      ..\n",
            "515    1\n",
            "516    1\n",
            "517    1\n",
            "518    0\n",
            "519    0\n",
            "Name: class, Length: 520, dtype: int64\n"
          ]
        },
        {
          "output_type": "stream",
          "name": "stderr",
          "text": [
            "<ipython-input-4-e79e090bab8f>:1: FutureWarning: Downcasting behavior in `replace` is deprecated and will be removed in a future version. To retain the old behavior, explicitly call `result.infer_objects(copy=False)`. To opt-in to the future behavior, set `pd.set_option('future.no_silent_downcasting', True)`\n",
            "  S=X.replace({'Male':1,'Female':0,'Yes':1,'No':0})\n",
            "<ipython-input-4-e79e090bab8f>:3: FutureWarning: Downcasting behavior in `replace` is deprecated and will be removed in a future version. To retain the old behavior, explicitly call `result.infer_objects(copy=False)`. To opt-in to the future behavior, set `pd.set_option('future.no_silent_downcasting', True)`\n",
            "  Y=y.replace({'Positive':1,'Negative':0})\n"
          ]
        }
      ]
    },
    {
      "cell_type": "code",
      "source": [
        "from sklearn.model_selection import train_test_split\n",
        "X_train, X_test, y_train, y_test = train_test_split(S, Y , test_size=0.2, random_state=30)\n",
        "print(\"X_train:\",X_train)\n",
        "print(\"X_test:\",X_test)\n",
        "print(\"Y_train:\",y_train)\n",
        "print(\"Y_train:\",y_test)"
      ],
      "metadata": {
        "colab": {
          "base_uri": "https://localhost:8080/"
        },
        "id": "Imeb2VZ__wsN",
        "outputId": "1427aa1c-cfba-4c9b-dffc-b0a476226bed"
      },
      "execution_count": 5,
      "outputs": [
        {
          "output_type": "stream",
          "name": "stdout",
          "text": [
            "X_train:      Age  Gender  Polyuria  Polydipsia  sudden weight loss  weakness  \\\n",
            "195   31       1         1           0                   0         0   \n",
            "349   37       1         0           0                   0         0   \n",
            "257   48       0         1           1                   0         1   \n",
            "157   48       1         1           1                   1         0   \n",
            "459   57       1         1           1                   1         1   \n",
            "..   ...     ...       ...         ...                 ...       ...   \n",
            "430   32       1         0           0                   0         0   \n",
            "145   61       1         1           0                   0         1   \n",
            "140   47       1         1           1                   0         0   \n",
            "500   66       1         1           0                   1         0   \n",
            "421   61       0         1           0                   0         0   \n",
            "\n",
            "     Polyphagia  Genital thrush  visual blurring  Itching  Irritability  \\\n",
            "195           1               0                1        0             0   \n",
            "349           0               0                0        0             0   \n",
            "257           0               0                1        1             0   \n",
            "157           1               1                0        0             0   \n",
            "459           1               0                1        0             0   \n",
            "..          ...             ...              ...      ...           ...   \n",
            "430           0               1                0        0             1   \n",
            "145           1               1                1        1             1   \n",
            "140           0               0                0        0             0   \n",
            "500           0               1                0        1             1   \n",
            "421           1               0                0        0             1   \n",
            "\n",
            "     delayed healing  partial paresis  muscle stiffness  Alopecia  Obesity  \n",
            "195                0                1                 0         1        0  \n",
            "349                0                0                 0         0        0  \n",
            "257                1                1                 0         0        0  \n",
            "157                1                0                 0         0        0  \n",
            "459                0                1                 0         0        0  \n",
            "..               ...              ...               ...       ...      ...  \n",
            "430                1                0                 0         0        1  \n",
            "145                1                1                 0         0        0  \n",
            "140                0                0                 1         0        0  \n",
            "500                0                0                 0         1        0  \n",
            "421                0                0                 0         1        0  \n",
            "\n",
            "[416 rows x 16 columns]\n",
            "X_test:      Age  Gender  Polyuria  Polydipsia  sudden weight loss  weakness  \\\n",
            "248   42       1         0           0                   0         0   \n",
            "60    65       0         1           1                   0         1   \n",
            "162   35       0         0           0                   0         0   \n",
            "391   58       1         0           1                   0         0   \n",
            "493   44       1         1           0                   1         1   \n",
            "..   ...     ...       ...         ...                 ...       ...   \n",
            "188   70       1         1           0                   1         1   \n",
            "158   56       1         1           0                   1         1   \n",
            "363   68       0         1           1                   0         1   \n",
            "164   48       0         1           1                   1         1   \n",
            "42    50       0         0           1                   0         1   \n",
            "\n",
            "     Polyphagia  Genital thrush  visual blurring  Itching  Irritability  \\\n",
            "248           0               0                0        0             0   \n",
            "60            1               0                0        1             0   \n",
            "162           0               0                0        0             0   \n",
            "391           0               0                1        1             0   \n",
            "493           0               1                0        1             0   \n",
            "..          ...             ...              ...      ...           ...   \n",
            "188           1               1                0        0             1   \n",
            "158           0               1                0        1             1   \n",
            "363           1               0                1        1             0   \n",
            "164           1               0                1        1             1   \n",
            "42            1               0                1        1             1   \n",
            "\n",
            "     delayed healing  partial paresis  muscle stiffness  Alopecia  Obesity  \n",
            "248                0                0                 0         1        0  \n",
            "60                 0                1                 1         0        0  \n",
            "162                0                0                 0         0        0  \n",
            "391                0                0                 1         0        0  \n",
            "493                1                0                 0         1        1  \n",
            "..               ...              ...               ...       ...      ...  \n",
            "188                1                1                 1         1        0  \n",
            "158                0                0                 0         1        0  \n",
            "363                1                1                 0         0        0  \n",
            "164                1                1                 1         0        0  \n",
            "42                 1                1                 1         0        0  \n",
            "\n",
            "[104 rows x 16 columns]\n",
            "Y_train: 195    1\n",
            "349    0\n",
            "257    1\n",
            "157    1\n",
            "459    1\n",
            "      ..\n",
            "430    1\n",
            "145    1\n",
            "140    1\n",
            "500    1\n",
            "421    1\n",
            "Name: class, Length: 416, dtype: int64\n",
            "Y_train: 248    0\n",
            "60     1\n",
            "162    1\n",
            "391    0\n",
            "493    0\n",
            "      ..\n",
            "188    1\n",
            "158    1\n",
            "363    1\n",
            "164    1\n",
            "42     1\n",
            "Name: class, Length: 104, dtype: int64\n"
          ]
        }
      ]
    },
    {
      "cell_type": "code",
      "source": [
        "from sklearn.linear_model import LogisticRegression\n",
        "LR = LogisticRegression()\n",
        "lr=LR.fit(X_train,y_train)\n",
        "print(\"coefficient:\",lr.coef_)\n",
        "print(\"intercept:\",lr.intercept_)"
      ],
      "metadata": {
        "colab": {
          "base_uri": "https://localhost:8080/"
        },
        "id": "Va7EQjdq_3ht",
        "outputId": "2045bce6-4687-4bfe-c159-a4c3c012abb7"
      },
      "execution_count": 6,
      "outputs": [
        {
          "output_type": "stream",
          "name": "stdout",
          "text": [
            "coefficient: [[-0.02698604 -2.60136808  2.48594712  2.86268139  0.60790669  0.34334826\n",
            "   1.04831723  1.13493086  0.6559378  -1.38534348  1.47220207 -0.43748972\n",
            "   1.04402217 -0.42196691 -0.00355869 -0.21565816]]\n",
            "intercept: [1.15463711]\n"
          ]
        },
        {
          "output_type": "stream",
          "name": "stderr",
          "text": [
            "/usr/local/lib/python3.10/dist-packages/sklearn/linear_model/_logistic.py:469: ConvergenceWarning: lbfgs failed to converge (status=1):\n",
            "STOP: TOTAL NO. of ITERATIONS REACHED LIMIT.\n",
            "\n",
            "Increase the number of iterations (max_iter) or scale the data as shown in:\n",
            "    https://scikit-learn.org/stable/modules/preprocessing.html\n",
            "Please also refer to the documentation for alternative solver options:\n",
            "    https://scikit-learn.org/stable/modules/linear_model.html#logistic-regression\n",
            "  n_iter_i = _check_optimize_result(\n"
          ]
        }
      ]
    },
    {
      "cell_type": "code",
      "source": [
        "from sklearn.metrics import accuracy_score,confusion_matrix,classification_report\n",
        "y_pred = lr.predict(X_train)\n",
        "print(\"accuracy:\",accuracy_score(y_train, y_pred))\n",
        "print(\"confusion matrix:\")\n",
        "print(confusion_matrix(y_train,y_pred))\n",
        "print(\"classification report:\")\n",
        "print(classification_report(y_train,y_pred))"
      ],
      "metadata": {
        "colab": {
          "base_uri": "https://localhost:8080/"
        },
        "id": "N0joRdn-_-y2",
        "outputId": "748318c1-6b6e-4ce1-e059-180e3dda713f"
      },
      "execution_count": 7,
      "outputs": [
        {
          "output_type": "stream",
          "name": "stdout",
          "text": [
            "accuracy: 0.9471153846153846\n",
            "confusion matrix:\n",
            "[[152   7]\n",
            " [ 15 242]]\n",
            "classification report:\n",
            "              precision    recall  f1-score   support\n",
            "\n",
            "           0       0.91      0.96      0.93       159\n",
            "           1       0.97      0.94      0.96       257\n",
            "\n",
            "    accuracy                           0.95       416\n",
            "   macro avg       0.94      0.95      0.94       416\n",
            "weighted avg       0.95      0.95      0.95       416\n",
            "\n"
          ]
        }
      ]
    },
    {
      "cell_type": "code",
      "source": [
        "from sklearn.svm import SVC\n",
        "SV= SVC()\n",
        "sv=SV.fit(X_train,y_train)\n",
        "print(\"intercept:\",sv.intercept_)"
      ],
      "metadata": {
        "colab": {
          "base_uri": "https://localhost:8080/"
        },
        "id": "6IVnRNnFAGJM",
        "outputId": "1ca3b4fc-91bc-43b3-e4c2-a95f9bc1463f"
      },
      "execution_count": 10,
      "outputs": [
        {
          "output_type": "stream",
          "name": "stdout",
          "text": [
            "intercept: [0.73657188]\n"
          ]
        }
      ]
    },
    {
      "cell_type": "code",
      "source": [
        "from sklearn.metrics import accuracy_score,confusion_matrix,classification_report\n",
        "y_pred = sv.predict(X_train)\n",
        "print(\"accuracy:\",accuracy_score(y_train, y_pred))\n",
        "print(\"confusion matrix:\")\n",
        "print(confusion_matrix(y_train,y_pred))\n",
        "print(\"classification report:\")\n",
        "print(classification_report(y_train,y_pred))"
      ],
      "metadata": {
        "colab": {
          "base_uri": "https://localhost:8080/"
        },
        "id": "dXMeKrPPAVV3",
        "outputId": "869f3417-9a08-44dc-d7e4-a35e79c877fa"
      },
      "execution_count": 11,
      "outputs": [
        {
          "output_type": "stream",
          "name": "stdout",
          "text": [
            "accuracy: 0.6177884615384616\n",
            "confusion matrix:\n",
            "[[  0 159]\n",
            " [  0 257]]\n",
            "classification report:\n",
            "              precision    recall  f1-score   support\n",
            "\n",
            "           0       0.00      0.00      0.00       159\n",
            "           1       0.62      1.00      0.76       257\n",
            "\n",
            "    accuracy                           0.62       416\n",
            "   macro avg       0.31      0.50      0.38       416\n",
            "weighted avg       0.38      0.62      0.47       416\n",
            "\n"
          ]
        },
        {
          "output_type": "stream",
          "name": "stderr",
          "text": [
            "/usr/local/lib/python3.10/dist-packages/sklearn/metrics/_classification.py:1531: UndefinedMetricWarning: Precision is ill-defined and being set to 0.0 in labels with no predicted samples. Use `zero_division` parameter to control this behavior.\n",
            "  _warn_prf(average, modifier, f\"{metric.capitalize()} is\", len(result))\n",
            "/usr/local/lib/python3.10/dist-packages/sklearn/metrics/_classification.py:1531: UndefinedMetricWarning: Precision is ill-defined and being set to 0.0 in labels with no predicted samples. Use `zero_division` parameter to control this behavior.\n",
            "  _warn_prf(average, modifier, f\"{metric.capitalize()} is\", len(result))\n",
            "/usr/local/lib/python3.10/dist-packages/sklearn/metrics/_classification.py:1531: UndefinedMetricWarning: Precision is ill-defined and being set to 0.0 in labels with no predicted samples. Use `zero_division` parameter to control this behavior.\n",
            "  _warn_prf(average, modifier, f\"{metric.capitalize()} is\", len(result))\n"
          ]
        }
      ]
    },
    {
      "cell_type": "code",
      "source": [
        "from sklearn.linear_model import Perceptron\n",
        "PR= Perceptron()\n",
        "pr=PR.fit(X_train,y_train)\n",
        "print(\"intercept:\",pr.intercept_)\n",
        "print(\"coefficient:\",pr.coef_)"
      ],
      "metadata": {
        "colab": {
          "base_uri": "https://localhost:8080/"
        },
        "id": "ZgXbkX0GAZ-2",
        "outputId": "bf230e16-ba30-40b8-9593-3319e456bdca"
      },
      "execution_count": 12,
      "outputs": [
        {
          "output_type": "stream",
          "name": "stdout",
          "text": [
            "intercept: [-87.]\n",
            "coefficient: [[  17. -539.  718.  713.  359.   90.  287.  198.  202. -183.  310.  -81.\n",
            "   363.  -28. -259.   35.]]\n"
          ]
        }
      ]
    },
    {
      "cell_type": "code",
      "source": [
        "from sklearn.metrics import accuracy_score\n",
        "y_pred = pr.predict(X_train)\n",
        "print(\"accuracy:\",accuracy_score(y_train, y_pred))\n",
        "print(\"confusion matrix:\")\n",
        "print(confusion_matrix(y_train,y_pred))\n",
        "print(\"classification report:\")\n",
        "print(classification_report(y_train,y_pred))"
      ],
      "metadata": {
        "colab": {
          "base_uri": "https://localhost:8080/"
        },
        "id": "QP8PmAyAAgMy",
        "outputId": "daee81f3-8207-472e-ba2e-0454fa26cff3"
      },
      "execution_count": 13,
      "outputs": [
        {
          "output_type": "stream",
          "name": "stdout",
          "text": [
            "accuracy: 0.7451923076923077\n",
            "confusion matrix:\n",
            "[[ 56 103]\n",
            " [  3 254]]\n",
            "classification report:\n",
            "              precision    recall  f1-score   support\n",
            "\n",
            "           0       0.95      0.35      0.51       159\n",
            "           1       0.71      0.99      0.83       257\n",
            "\n",
            "    accuracy                           0.75       416\n",
            "   macro avg       0.83      0.67      0.67       416\n",
            "weighted avg       0.80      0.75      0.71       416\n",
            "\n"
          ]
        }
      ]
    },
    {
      "cell_type": "code",
      "source": [
        "from sklearn.neighbors import KNeighborsClassifier\n",
        "from sklearn.metrics import accuracy_score\n",
        "accuraries=[]\n",
        "for i in range(1,50):\n",
        "  knn = KNeighborsClassifier(n_neighbors=i)\n",
        "  KN=knn.fit(X_train, y_train)\n",
        "  y_pred = KN.predict(X_test)\n",
        "  accuracy = accuracy_score(y_test, y_pred)\n",
        "  print(f\"Accuracy for k={i}: {accuracy}\")\n",
        "  accuraries.append(accuracy)"
      ],
      "metadata": {
        "colab": {
          "base_uri": "https://localhost:8080/"
        },
        "id": "nrMJ5s1tAjHo",
        "outputId": "4e9b3f9e-54b3-42c0-ef15-9ced92d9840a"
      },
      "execution_count": 14,
      "outputs": [
        {
          "output_type": "stream",
          "name": "stdout",
          "text": [
            "Accuracy for k=1: 0.9519230769230769\n",
            "Accuracy for k=2: 0.9038461538461539\n",
            "Accuracy for k=3: 0.9038461538461539\n",
            "Accuracy for k=4: 0.8557692307692307\n",
            "Accuracy for k=5: 0.8942307692307693\n",
            "Accuracy for k=6: 0.8076923076923077\n",
            "Accuracy for k=7: 0.7980769230769231\n",
            "Accuracy for k=8: 0.7596153846153846\n",
            "Accuracy for k=9: 0.7884615384615384\n",
            "Accuracy for k=10: 0.7596153846153846\n",
            "Accuracy for k=11: 0.7403846153846154\n",
            "Accuracy for k=12: 0.7403846153846154\n",
            "Accuracy for k=13: 0.7019230769230769\n",
            "Accuracy for k=14: 0.6730769230769231\n",
            "Accuracy for k=15: 0.6826923076923077\n",
            "Accuracy for k=16: 0.7019230769230769\n",
            "Accuracy for k=17: 0.7019230769230769\n",
            "Accuracy for k=18: 0.7019230769230769\n",
            "Accuracy for k=19: 0.7115384615384616\n",
            "Accuracy for k=20: 0.7211538461538461\n",
            "Accuracy for k=21: 0.7019230769230769\n",
            "Accuracy for k=22: 0.7019230769230769\n",
            "Accuracy for k=23: 0.7307692307692307\n",
            "Accuracy for k=24: 0.7115384615384616\n",
            "Accuracy for k=25: 0.7115384615384616\n",
            "Accuracy for k=26: 0.7115384615384616\n",
            "Accuracy for k=27: 0.7115384615384616\n",
            "Accuracy for k=28: 0.7019230769230769\n",
            "Accuracy for k=29: 0.7211538461538461\n",
            "Accuracy for k=30: 0.7307692307692307\n",
            "Accuracy for k=31: 0.7403846153846154\n",
            "Accuracy for k=32: 0.7403846153846154\n",
            "Accuracy for k=33: 0.7211538461538461\n",
            "Accuracy for k=34: 0.7115384615384616\n",
            "Accuracy for k=35: 0.7115384615384616\n",
            "Accuracy for k=36: 0.7115384615384616\n",
            "Accuracy for k=37: 0.7403846153846154\n",
            "Accuracy for k=38: 0.7692307692307693\n",
            "Accuracy for k=39: 0.7403846153846154\n",
            "Accuracy for k=40: 0.7692307692307693\n",
            "Accuracy for k=41: 0.7403846153846154\n",
            "Accuracy for k=42: 0.7307692307692307\n",
            "Accuracy for k=43: 0.7307692307692307\n",
            "Accuracy for k=44: 0.7403846153846154\n",
            "Accuracy for k=45: 0.7307692307692307\n",
            "Accuracy for k=46: 0.7307692307692307\n",
            "Accuracy for k=47: 0.7115384615384616\n",
            "Accuracy for k=48: 0.7211538461538461\n",
            "Accuracy for k=49: 0.7307692307692307\n"
          ]
        }
      ]
    }
  ]
}